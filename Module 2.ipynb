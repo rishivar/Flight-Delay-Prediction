{
  "nbformat": 4,
  "nbformat_minor": 0,
  "metadata": {
    "kernelspec": {
      "name": "python3",
      "display_name": "Python 3"
    },
    "language_info": {
      "codemirror_mode": {
        "name": "ipython",
        "version": 3
      },
      "file_extension": ".py",
      "mimetype": "text/x-python",
      "name": "python",
      "nbconvert_exporter": "python",
      "pygments_lexer": "ipython3",
      "version": "3.7.4"
    },
    "colab": {
      "name": "Logistic.ipynb",
      "provenance": []
    },
    "accelerator": "GPU"
  },
  "cells": [
    {
      "cell_type": "code",
      "metadata": {
        "id": "63sBpZJAXoJG",
        "colab_type": "code",
        "colab": {}
      },
      "source": [
        "import pandas as pd\n",
        "import numpy as np\n",
        "import matplotlib\n",
        "import matplotlib.pyplot as plt\n",
        "%matplotlib inline\n",
        "from sklearn.model_selection import train_test_split\n",
        "from sklearn.linear_model import LinearRegression\n",
        "from sklearn.feature_selection import RFE\n",
        "from sklearn.linear_model import RidgeCV, LassoCV, Ridge, Lasso\n",
        "import seaborn as sns\n",
        "from sklearn import tree\n",
        "from sklearn.preprocessing import LabelEncoder\n",
        "from sklearn.model_selection import train_test_split\n",
        "from sklearn.externals.six import StringIO  \n",
        "from IPython.display import Image  \n",
        "from sklearn.tree import export_graphviz\n",
        "from sklearn.metrics import accuracy_score, f1_score, precision_score, recall_score, classification_report, confusion_matrix\n",
        "from imblearn.over_sampling import SMOTE\n",
        "from imblearn.over_sampling import ADASYN \n",
        "from imblearn.over_sampling import RandomOverSampler\n",
        "from imblearn.under_sampling import NearMiss\n",
        "from imblearn.under_sampling import RandomUnderSampler\n",
        "from imblearn.under_sampling import CondensedNearestNeighbour\n",
        "from sklearn import svm\n",
        "from sklearn.ensemble import ExtraTreesClassifier, GradientBoostingClassifier"
      ],
      "execution_count": 0,
      "outputs": []
    },
    {
      "cell_type": "code",
      "metadata": {
        "id": "0sFMKmCuXuks",
        "colab_type": "code",
        "colab": {}
      },
      "source": [
        "from google.colab import drive\n",
        "drive.mount('/content/drive')"
      ],
      "execution_count": 0,
      "outputs": []
    },
    {
      "cell_type": "code",
      "metadata": {
        "id": "cnlRHbt_aSBJ",
        "colab_type": "code",
        "colab": {}
      },
      "source": [
        "!ls 'drive/My Drive/Colab Notebooks/'"
      ],
      "execution_count": 0,
      "outputs": []
    },
    {
      "cell_type": "code",
      "metadata": {
        "id": "_U5rfY7UXoJN",
        "colab_type": "code",
        "colab": {}
      },
      "source": [
        "df = pd.read_csv('drive/My Drive/Colab Notebooks/final.csv')\n",
        "del df['Unnamed: 0']\n",
        "del df['FlightDate']\n",
        "\n",
        "for i in df.keys():\n",
        "    if '_y' in i:  ## Filtering for Arrival Features\n",
        "        del df[i]\n",
        "\n",
        "df = df.drop(['ArrDelayMinutes','DepDel15','DepDelayMinutes','airport_x','date_x','DepTime','ArrTime','time_x'],1)\n",
        "lb = LabelEncoder()\n",
        "df['Origin'] = lb.fit_transform(df['Origin'])\n",
        "df['Dest'] = lb.fit_transform(df['Dest'])"
      ],
      "execution_count": 0,
      "outputs": []
    },
    {
      "cell_type": "markdown",
      "metadata": {
        "id": "ZDwvofsZXoJQ",
        "colab_type": "text"
      },
      "source": [
        "### Decision Tree Classifier"
      ]
    },
    {
      "cell_type": "code",
      "metadata": {
        "id": "0PnJZKNUXoJR",
        "colab_type": "code",
        "colab": {}
      },
      "source": [
        "X = np.array(df.drop(\"ArrDel15\", axis = 1))\n",
        "Y = np.array(df[\"ArrDel15\"])\n",
        "x_train, x_test, y_train, y_test = train_test_split( X, Y, test_size=0.20, random_state=42)"
      ],
      "execution_count": 0,
      "outputs": []
    },
    {
      "cell_type": "code",
      "metadata": {
        "id": "BKX7QDjvXoJU",
        "colab_type": "code",
        "colab": {}
      },
      "source": [
        "clf = tree.DecisionTreeClassifier()\n",
        "clf = clf.fit(x_train,y_train)\n",
        "y_pred = clf.predict(x_test)\n",
        "\n",
        "print(\"Test Score: \"+ str(clf.score(x_test,y_test))) "
      ],
      "execution_count": 0,
      "outputs": []
    },
    {
      "cell_type": "code",
      "metadata": {
        "id": "0plhk8faXoJW",
        "colab_type": "code",
        "colab": {}
      },
      "source": [
        "print(\"precision score : \"+str(precision_score(y_test,y_pred))) \n",
        "print(\"recall score : \"+str(recall_score(y_test,y_pred))) \n",
        "print(\"f1 score : \"+str(f1_score(y_test,y_pred)))"
      ],
      "execution_count": 0,
      "outputs": []
    },
    {
      "cell_type": "code",
      "metadata": {
        "id": "D7gsuSSxXoJZ",
        "colab_type": "code",
        "colab": {}
      },
      "source": [
        "print(classification_report(y_test,y_pred))"
      ],
      "execution_count": 0,
      "outputs": []
    },
    {
      "cell_type": "markdown",
      "metadata": {
        "id": "lw-OpvwhXoJc",
        "colab_type": "text"
      },
      "source": [
        "### Over Sampling"
      ]
    },
    {
      "cell_type": "markdown",
      "metadata": {
        "id": "3y3R1C_6XoJc",
        "colab_type": "text"
      },
      "source": [
        "#### SMOTE"
      ]
    },
    {
      "cell_type": "code",
      "metadata": {
        "id": "NVxWjb8rXoJd",
        "colab_type": "code",
        "colab": {}
      },
      "source": [
        "sm = SMOTE()\n",
        "X = np.array(df.drop(\"ArrDel15\", axis = 1))\n",
        "Y = np.array(df[\"ArrDel15\"])\n",
        "X, Y = sm.fit_sample(X, Y)\n",
        "x_train, x_test, y_train, y_test = train_test_split( X, Y, test_size=0.20, random_state=42)"
      ],
      "execution_count": 0,
      "outputs": []
    },
    {
      "cell_type": "code",
      "metadata": {
        "id": "VJ-MJYdCXoJg",
        "colab_type": "code",
        "colab": {}
      },
      "source": [
        "clf = tree.DecisionTreeClassifier()\n",
        "clf = clf.fit(x_train,y_train)\n",
        "y_pred = clf.predict(x_test)\n",
        "\n",
        "print(\"Test Score: \"+ str(clf.score(x_test,y_test))) "
      ],
      "execution_count": 0,
      "outputs": []
    },
    {
      "cell_type": "code",
      "metadata": {
        "id": "0rm33eh0XoJi",
        "colab_type": "code",
        "colab": {}
      },
      "source": [
        "print(\"precision score : \"+str(precision_score(y_test,y_pred))) \n",
        "print(\"recall score : \"+str(recall_score(y_test,y_pred))) \n",
        "print(\"f1 score : \"+str(f1_score(y_test,y_pred)))\n",
        "print(classification_report(y_test,y_pred))"
      ],
      "execution_count": 0,
      "outputs": []
    },
    {
      "cell_type": "markdown",
      "metadata": {
        "id": "e3Pi2wrdXoJl",
        "colab_type": "text"
      },
      "source": [
        "#### ADAYSN"
      ]
    },
    {
      "cell_type": "code",
      "metadata": {
        "id": "mpjYp5aZXoJm",
        "colab_type": "code",
        "colab": {}
      },
      "source": [
        "sm = ADASYN()\n",
        "X = np.array(df.drop(\"ArrDel15\", axis = 1))\n",
        "Y = np.array(df[\"ArrDel15\"])\n",
        "X, Y = sm.fit_sample(X, Y)\n",
        "x_train, x_test, y_train, y_test = train_test_split( X, Y, test_size=0.20, random_state=42)"
      ],
      "execution_count": 0,
      "outputs": []
    },
    {
      "cell_type": "code",
      "metadata": {
        "id": "26GC7WIfXoJp",
        "colab_type": "code",
        "colab": {}
      },
      "source": [
        "clf = tree.DecisionTreeClassifier()\n",
        "clf = clf.fit(x_train,y_train)\n",
        "y_pred = clf.predict(x_test)\n",
        "\n",
        "print(\"Test Score: \"+ str(clf.score(x_test,y_test))) "
      ],
      "execution_count": 0,
      "outputs": []
    },
    {
      "cell_type": "code",
      "metadata": {
        "id": "MxKlNrX2XoJs",
        "colab_type": "code",
        "colab": {}
      },
      "source": [
        "print(\"precision score : \"+str(precision_score(y_test,y_pred))) \n",
        "print(\"recall score : \"+str(recall_score(y_test,y_pred))) \n",
        "print(\"f1 score : \"+str(f1_score(y_test,y_pred)))\n",
        "print(classification_report(y_test,y_pred))"
      ],
      "execution_count": 0,
      "outputs": []
    },
    {
      "cell_type": "markdown",
      "metadata": {
        "id": "MqLrkXvbXoJv",
        "colab_type": "text"
      },
      "source": [
        "#### Random OverSampling"
      ]
    },
    {
      "cell_type": "code",
      "metadata": {
        "id": "d84-U7IDXoJw",
        "colab_type": "code",
        "colab": {}
      },
      "source": [
        "ros = RandomOverSampler(random_state=42)\n",
        "X = np.array(df.drop(\"ArrDel15\", axis = 1))\n",
        "Y = np.array(df[\"ArrDel15\"])\n",
        "X, Y = ros.fit_resample(X, Y)\n",
        "x_train, x_test, y_train, y_test = train_test_split( X, Y, test_size=0.20, random_state=42)"
      ],
      "execution_count": 0,
      "outputs": []
    },
    {
      "cell_type": "code",
      "metadata": {
        "id": "kFb2XkeCXoJy",
        "colab_type": "code",
        "colab": {}
      },
      "source": [
        "clf = tree.DecisionTreeClassifier()\n",
        "clf = clf.fit(x_train,y_train)\n",
        "y_pred = clf.predict(x_test)\n",
        "\n",
        "print(\"Test Score: \"+ str(clf.score(x_test,y_test))) "
      ],
      "execution_count": 0,
      "outputs": []
    },
    {
      "cell_type": "code",
      "metadata": {
        "id": "Bzi4okloXoJ1",
        "colab_type": "code",
        "colab": {}
      },
      "source": [
        "print(\"precision score : \"+str(precision_score(y_test,y_pred))) \n",
        "print(\"recall score : \"+str(recall_score(y_test,y_pred))) \n",
        "print(\"f1 score : \"+str(f1_score(y_test,y_pred)))\n",
        "print(classification_report(y_test,y_pred))"
      ],
      "execution_count": 0,
      "outputs": []
    },
    {
      "cell_type": "markdown",
      "metadata": {
        "id": "KqfPZm1-XoJ4",
        "colab_type": "text"
      },
      "source": [
        "### Under Sampling"
      ]
    },
    {
      "cell_type": "markdown",
      "metadata": {
        "id": "KCZAyPfoXoJ5",
        "colab_type": "text"
      },
      "source": [
        "#### Near Miss"
      ]
    },
    {
      "cell_type": "code",
      "metadata": {
        "id": "HeaK6u8DXoJ6",
        "colab_type": "code",
        "colab": {}
      },
      "source": [
        "nm = NearMiss()\n",
        "X = np.array(df.drop(\"ArrDel15\", axis = 1))\n",
        "Y = np.array(df[\"ArrDel15\"])\n",
        "X, Y = nm.fit_resample(X, Y)\n",
        "x_train, x_test, y_train, y_test = train_test_split( X, Y, test_size=0.20, random_state=42)"
      ],
      "execution_count": 0,
      "outputs": []
    },
    {
      "cell_type": "code",
      "metadata": {
        "id": "1oLhLE66XoJ9",
        "colab_type": "code",
        "colab": {}
      },
      "source": [
        "clf = tree.DecisionTreeClassifier()\n",
        "clf = clf.fit(x_train,y_train)\n",
        "y_pred = clf.predict(x_test)\n",
        "\n",
        "print(\"Test Score: \"+ str(clf.score(x_test,y_test))) "
      ],
      "execution_count": 0,
      "outputs": []
    },
    {
      "cell_type": "code",
      "metadata": {
        "id": "rRKaCo55XoKA",
        "colab_type": "code",
        "colab": {}
      },
      "source": [
        "print(\"precision score : \"+str(precision_score(y_test,y_pred))) \n",
        "print(\"recall score : \"+str(recall_score(y_test,y_pred))) \n",
        "print(\"f1 score : \"+str(f1_score(y_test,y_pred)))\n",
        "print(classification_report(y_test,y_pred))"
      ],
      "execution_count": 0,
      "outputs": []
    },
    {
      "cell_type": "markdown",
      "metadata": {
        "id": "U-IAwahZXoKE",
        "colab_type": "text"
      },
      "source": [
        "#### Random UnderSampling"
      ]
    },
    {
      "cell_type": "code",
      "metadata": {
        "id": "p9YaXZJ3XoKF",
        "colab_type": "code",
        "colab": {}
      },
      "source": [
        "rus = RandomUnderSampler()\n",
        "X = np.array(df.drop(\"ArrDel15\", axis = 1))\n",
        "Y = np.array(df[\"ArrDel15\"])\n",
        "X, Y = rus.fit_resample(X, Y)\n",
        "x_train, x_test, y_train, y_test = train_test_split( X, Y, test_size=0.20, random_state=42)"
      ],
      "execution_count": 0,
      "outputs": []
    },
    {
      "cell_type": "code",
      "metadata": {
        "id": "rMa9giJ6XoKJ",
        "colab_type": "code",
        "colab": {}
      },
      "source": [
        "clf = tree.DecisionTreeClassifier()\n",
        "clf = clf.fit(x_train,y_train)\n",
        "y_pred = clf.predict(x_test)\n",
        "\n",
        "print(\"Test Score: \"+ str(clf.score(x_test,y_test))) "
      ],
      "execution_count": 0,
      "outputs": []
    },
    {
      "cell_type": "code",
      "metadata": {
        "id": "YQqQbCPaXoKL",
        "colab_type": "code",
        "colab": {}
      },
      "source": [
        "print(\"precision score : \"+str(precision_score(y_test,y_pred))) \n",
        "print(\"recall score : \"+str(recall_score(y_test,y_pred))) \n",
        "print(\"f1 score : \"+str(f1_score(y_test,y_pred)))\n",
        "print(classification_report(y_test,y_pred))"
      ],
      "execution_count": 0,
      "outputs": []
    },
    {
      "cell_type": "markdown",
      "metadata": {
        "id": "unNhuk_wXoKN",
        "colab_type": "text"
      },
      "source": [
        "### SMOTE OverSampling"
      ]
    },
    {
      "cell_type": "code",
      "metadata": {
        "id": "mVjl5jI4XoKO",
        "colab_type": "code",
        "colab": {}
      },
      "source": [
        "sm = SMOTE()\n",
        "X = np.array(df.drop(\"ArrDel15\", axis = 1))\n",
        "Y = np.array(df[\"ArrDel15\"])\n",
        "X, Y = sm.fit_sample(X, Y)\n",
        "x_train, x_test, y_train, y_test = train_test_split( X, Y, test_size=0.20, random_state=42)"
      ],
      "execution_count": 0,
      "outputs": []
    },
    {
      "cell_type": "markdown",
      "metadata": {
        "id": "XXVaIGN2XoKQ",
        "colab_type": "text"
      },
      "source": [
        "### Support Vector Machines ( Applying SMOTE Oversampling )"
      ]
    },
    {
      "cell_type": "code",
      "metadata": {
        "id": "FLx_6hUIXoKR",
        "colab_type": "code",
        "colab": {}
      },
      "source": [
        "clf = svm.SVC(gamma='scale')\n",
        "clf.fit(x_train, y_train) \n",
        "y_pred = clf.predict(x_test)\n",
        "\n",
        "print(\"Test Score: \"+ str(clf.score(x_test,y_test))) "
      ],
      "execution_count": 0,
      "outputs": []
    },
    {
      "cell_type": "code",
      "metadata": {
        "id": "g4FhpAEdXoKU",
        "colab_type": "code",
        "colab": {}
      },
      "source": [
        "print(\"precision score : \"+str(precision_score(y_test,y_pred))) \n",
        "print(\"recall score : \"+str(recall_score(y_test,y_pred))) \n",
        "print(\"f1 score : \"+str(f1_score(y_test,y_pred)))\n",
        "print(classification_report(y_test,y_pred))"
      ],
      "execution_count": 0,
      "outputs": []
    },
    {
      "cell_type": "markdown",
      "metadata": {
        "id": "OJ4S7EsNXoKV",
        "colab_type": "text"
      },
      "source": [
        "### Extra Trees Classifier ( Applying SMOTE Oversampling )"
      ]
    },
    {
      "cell_type": "code",
      "metadata": {
        "id": "PxJ3YbFYXoKW",
        "colab_type": "code",
        "colab": {}
      },
      "source": [
        "clf = ExtraTreesClassifier()\n",
        "clf.fit(x_train, y_train) \n",
        "y_pred = clf.predict(x_test)\n",
        "\n",
        "print(\"Test Score: \"+ str(clf.score(x_test,y_test))) "
      ],
      "execution_count": 0,
      "outputs": []
    },
    {
      "cell_type": "code",
      "metadata": {
        "id": "aqOYY6CbXoKY",
        "colab_type": "code",
        "colab": {}
      },
      "source": [
        "print(\"precision score : \"+str(precision_score(y_test,y_pred))) \n",
        "print(\"recall score : \"+str(recall_score(y_test,y_pred))) \n",
        "print(\"f1 score : \"+str(f1_score(y_test,y_pred)))\n",
        "print(classification_report(y_test,y_pred))"
      ],
      "execution_count": 0,
      "outputs": []
    },
    {
      "cell_type": "markdown",
      "metadata": {
        "id": "b3BR1WwFXoKa",
        "colab_type": "text"
      },
      "source": [
        "### Gradient Boosting ( Applying SMOTE OverSampling )"
      ]
    },
    {
      "cell_type": "code",
      "metadata": {
        "id": "cAH3tIfOXoKb",
        "colab_type": "code",
        "colab": {}
      },
      "source": [
        "clf = GradientBoostingClassifier()\n",
        "clf.fit(x_train, y_train) \n",
        "y_pred = clf.predict(x_test)\n",
        "\n",
        "print(\"Test Score: \"+ str(clf.score(x_test,y_test))) "
      ],
      "execution_count": 0,
      "outputs": []
    },
    {
      "cell_type": "code",
      "metadata": {
        "id": "566B8sDLXoKd",
        "colab_type": "code",
        "colab": {}
      },
      "source": [
        "print(\"precision score : \"+str(precision_score(y_test,y_pred))) \n",
        "print(\"recall score : \"+str(recall_score(y_test,y_pred))) \n",
        "print(\"f1 score : \"+str(f1_score(y_test,y_pred)))\n",
        "print(classification_report(y_test,y_pred))"
      ],
      "execution_count": 0,
      "outputs": []
    },
    {
      "cell_type": "code",
      "metadata": {
        "id": "Rg37KJnMXoKg",
        "colab_type": "code",
        "colab": {}
      },
      "source": [
        ""
      ],
      "execution_count": 0,
      "outputs": []
    }
  ]
}