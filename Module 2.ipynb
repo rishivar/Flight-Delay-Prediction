{
 "cells": [
  {
   "cell_type": "code",
   "execution_count": 1,
   "metadata": {
    "colab": {},
    "colab_type": "code",
    "id": "63sBpZJAXoJG"
   },
   "outputs": [
    {
     "name": "stderr",
     "output_type": "stream",
     "text": [
      "/home/rishi/.local/lib/python3.7/site-packages/sklearn/externals/six.py:31: DeprecationWarning: The module is deprecated in version 0.21 and will be removed in version 0.23 since we've dropped support for Python 2.7. Please rely on the official version of six (https://pypi.org/project/six/).\n",
      "  \"(https://pypi.org/project/six/).\", DeprecationWarning)\n",
      "Using TensorFlow backend.\n"
     ]
    }
   ],
   "source": [
    "import pandas as pd\n",
    "import numpy as np\n",
    "import matplotlib\n",
    "import matplotlib.pyplot as plt\n",
    "%matplotlib inline\n",
    "from sklearn.model_selection import train_test_split\n",
    "from sklearn.linear_model import LinearRegression\n",
    "from sklearn.feature_selection import RFE\n",
    "from sklearn.linear_model import RidgeCV, LassoCV, Ridge, Lasso\n",
    "import seaborn as sns\n",
    "from sklearn import tree\n",
    "from sklearn.preprocessing import LabelEncoder\n",
    "from sklearn.model_selection import train_test_split\n",
    "from sklearn.externals.six import StringIO  \n",
    "from IPython.display import Image  \n",
    "from sklearn.tree import export_graphviz\n",
    "from sklearn.metrics import accuracy_score, f1_score, precision_score, recall_score, classification_report, confusion_matrix\n",
    "from imblearn.over_sampling import SMOTE\n",
    "from imblearn.over_sampling import ADASYN \n",
    "from imblearn.over_sampling import RandomOverSampler\n",
    "from imblearn.under_sampling import NearMiss\n",
    "from imblearn.under_sampling import RandomUnderSampler\n",
    "from imblearn.under_sampling import CondensedNearestNeighbour\n",
    "from sklearn import svm\n",
    "from sklearn.ensemble import ExtraTreesClassifier, GradientBoostingClassifier"
   ]
  },
  {
   "cell_type": "code",
   "execution_count": 2,
   "metadata": {
    "colab": {},
    "colab_type": "code",
    "id": "_U5rfY7UXoJN"
   },
   "outputs": [],
   "source": [
    "df = pd.read_csv('final.csv')\n",
    "del df['Unnamed: 0']\n",
    "del df['FlightDate']\n",
    "\n",
    "for i in df.keys():\n",
    "    if '_y' in i:  ## Filtering for Arrival Features\n",
    "        del df[i]\n",
    "\n",
    "df = df.drop(['ArrDelayMinutes','DepDel15','DepDelayMinutes','airport_x','date_x','DepTime','ArrTime','time_x'],1)\n",
    "lb = LabelEncoder()\n",
    "df['Origin'] = lb.fit_transform(df['Origin'])\n",
    "df['Dest'] = lb.fit_transform(df['Dest'])"
   ]
  },
  {
   "cell_type": "markdown",
   "metadata": {
    "colab_type": "text",
    "id": "ZDwvofsZXoJQ"
   },
   "source": [
    "### Decision Tree Classifier"
   ]
  },
  {
   "cell_type": "code",
   "execution_count": 3,
   "metadata": {
    "colab": {},
    "colab_type": "code",
    "id": "0PnJZKNUXoJR"
   },
   "outputs": [],
   "source": [
    "X = np.array(df.drop(\"ArrDel15\", axis = 1))\n",
    "Y = np.array(df[\"ArrDel15\"])\n",
    "x_train, x_test, y_train, y_test = train_test_split( X, Y, test_size=0.20, random_state=42)"
   ]
  },
  {
   "cell_type": "code",
   "execution_count": 4,
   "metadata": {
    "colab": {},
    "colab_type": "code",
    "id": "BKX7QDjvXoJU"
   },
   "outputs": [
    {
     "name": "stdout",
     "output_type": "stream",
     "text": [
      "Test Score: 0.7263001650783082\n"
     ]
    }
   ],
   "source": [
    "clf = tree.DecisionTreeClassifier()\n",
    "clf = clf.fit(x_train,y_train)\n",
    "y_pred = clf.predict(x_test)\n",
    "\n",
    "print(\"Test Score: \"+ str(clf.score(x_test,y_test))) "
   ]
  },
  {
   "cell_type": "code",
   "execution_count": 5,
   "metadata": {
    "colab": {},
    "colab_type": "code",
    "id": "0plhk8faXoJW"
   },
   "outputs": [
    {
     "name": "stdout",
     "output_type": "stream",
     "text": [
      "precision score : 0.3547925785913251\n",
      "recall score : 0.3789128384929014\n",
      "f1 score : 0.3664562367946157\n"
     ]
    }
   ],
   "source": [
    "print(\"precision score : \"+str(precision_score(y_test,y_pred))) \n",
    "print(\"recall score : \"+str(recall_score(y_test,y_pred))) \n",
    "print(\"f1 score : \"+str(f1_score(y_test,y_pred)))"
   ]
  },
  {
   "cell_type": "code",
   "execution_count": 6,
   "metadata": {
    "colab": {},
    "colab_type": "code",
    "id": "D7gsuSSxXoJZ"
   },
   "outputs": [
    {
     "name": "stdout",
     "output_type": "stream",
     "text": [
      "              precision    recall  f1-score   support\n",
      "\n",
      "         0.0       0.83      0.82      0.83    285138\n",
      "         1.0       0.35      0.38      0.37     75297\n",
      "\n",
      "    accuracy                           0.73    360435\n",
      "   macro avg       0.59      0.60      0.60    360435\n",
      "weighted avg       0.73      0.73      0.73    360435\n",
      "\n"
     ]
    }
   ],
   "source": [
    "print(classification_report(y_test,y_pred))"
   ]
  },
  {
   "cell_type": "markdown",
   "metadata": {
    "colab_type": "text",
    "id": "lw-OpvwhXoJc"
   },
   "source": [
    "### Over Sampling"
   ]
  },
  {
   "cell_type": "markdown",
   "metadata": {
    "colab_type": "text",
    "id": "3y3R1C_6XoJc"
   },
   "source": [
    "#### SMOTE"
   ]
  },
  {
   "cell_type": "code",
   "execution_count": 7,
   "metadata": {
    "colab": {},
    "colab_type": "code",
    "id": "NVxWjb8rXoJd"
   },
   "outputs": [],
   "source": [
    "sm = SMOTE()\n",
    "X = np.array(df.drop(\"ArrDel15\", axis = 1))\n",
    "Y = np.array(df[\"ArrDel15\"])\n",
    "X, Y = sm.fit_sample(X, Y)\n",
    "x_train, x_test, y_train, y_test = train_test_split( X, Y, test_size=0.20, random_state=42)"
   ]
  },
  {
   "cell_type": "code",
   "execution_count": 8,
   "metadata": {
    "colab": {},
    "colab_type": "code",
    "id": "VJ-MJYdCXoJg"
   },
   "outputs": [
    {
     "name": "stdout",
     "output_type": "stream",
     "text": [
      "Test Score: 0.8209275518712905\n"
     ]
    }
   ],
   "source": [
    "clf = tree.DecisionTreeClassifier()\n",
    "clf = clf.fit(x_train,y_train)\n",
    "y_pred = clf.predict(x_test)\n",
    "\n",
    "print(\"Test Score: \"+ str(clf.score(x_test,y_test))) "
   ]
  },
  {
   "cell_type": "code",
   "execution_count": 9,
   "metadata": {
    "colab": {},
    "colab_type": "code",
    "id": "0rm33eh0XoJi"
   },
   "outputs": [
    {
     "name": "stdout",
     "output_type": "stream",
     "text": [
      "precision score : 0.814814052068853\n",
      "recall score : 0.8310298956801793\n",
      "f1 score : 0.8228420897565879\n",
      "              precision    recall  f1-score   support\n",
      "\n",
      "         0.0       0.83      0.81      0.82    285176\n",
      "         1.0       0.81      0.83      0.82    285660\n",
      "\n",
      "    accuracy                           0.82    570836\n",
      "   macro avg       0.82      0.82      0.82    570836\n",
      "weighted avg       0.82      0.82      0.82    570836\n",
      "\n"
     ]
    }
   ],
   "source": [
    "print(\"precision score : \"+str(precision_score(y_test,y_pred))) \n",
    "print(\"recall score : \"+str(recall_score(y_test,y_pred))) \n",
    "print(\"f1 score : \"+str(f1_score(y_test,y_pred)))\n",
    "print(classification_report(y_test,y_pred))"
   ]
  },
  {
   "cell_type": "markdown",
   "metadata": {
    "colab_type": "text",
    "id": "e3Pi2wrdXoJl"
   },
   "source": [
    "#### ADAYSN"
   ]
  },
  {
   "cell_type": "code",
   "execution_count": 10,
   "metadata": {
    "colab": {},
    "colab_type": "code",
    "id": "mpjYp5aZXoJm"
   },
   "outputs": [],
   "source": [
    "sm = ADASYN()\n",
    "X = np.array(df.drop(\"ArrDel15\", axis = 1))\n",
    "Y = np.array(df[\"ArrDel15\"])\n",
    "X, Y = sm.fit_sample(X, Y)\n",
    "x_train, x_test, y_train, y_test = train_test_split( X, Y, test_size=0.20, random_state=42)"
   ]
  },
  {
   "cell_type": "code",
   "execution_count": 11,
   "metadata": {
    "colab": {},
    "colab_type": "code",
    "id": "26GC7WIfXoJp"
   },
   "outputs": [
    {
     "name": "stdout",
     "output_type": "stream",
     "text": [
      "Test Score: 0.8196729419328856\n"
     ]
    }
   ],
   "source": [
    "clf = tree.DecisionTreeClassifier()\n",
    "clf = clf.fit(x_train,y_train)\n",
    "y_pred = clf.predict(x_test)\n",
    "\n",
    "print(\"Test Score: \"+ str(clf.score(x_test,y_test))) "
   ]
  },
  {
   "cell_type": "code",
   "execution_count": 12,
   "metadata": {
    "colab": {},
    "colab_type": "code",
    "id": "MxKlNrX2XoJs"
   },
   "outputs": [
    {
     "name": "stdout",
     "output_type": "stream",
     "text": [
      "precision score : 0.81317695853826\n",
      "recall score : 0.826418506625275\n",
      "f1 score : 0.8197442625034872\n",
      "              precision    recall  f1-score   support\n",
      "\n",
      "         0.0       0.83      0.81      0.82    285244\n",
      "         1.0       0.81      0.83      0.82    280894\n",
      "\n",
      "    accuracy                           0.82    566138\n",
      "   macro avg       0.82      0.82      0.82    566138\n",
      "weighted avg       0.82      0.82      0.82    566138\n",
      "\n"
     ]
    }
   ],
   "source": [
    "print(\"precision score : \"+str(precision_score(y_test,y_pred))) \n",
    "print(\"recall score : \"+str(recall_score(y_test,y_pred))) \n",
    "print(\"f1 score : \"+str(f1_score(y_test,y_pred)))\n",
    "print(classification_report(y_test,y_pred))"
   ]
  },
  {
   "cell_type": "markdown",
   "metadata": {
    "colab_type": "text",
    "id": "MqLrkXvbXoJv"
   },
   "source": [
    "#### Random OverSampling"
   ]
  },
  {
   "cell_type": "code",
   "execution_count": 13,
   "metadata": {
    "colab": {},
    "colab_type": "code",
    "id": "d84-U7IDXoJw"
   },
   "outputs": [],
   "source": [
    "ros = RandomOverSampler(random_state=42)\n",
    "X = np.array(df.drop(\"ArrDel15\", axis = 1))\n",
    "Y = np.array(df[\"ArrDel15\"])\n",
    "X, Y = ros.fit_resample(X, Y)\n",
    "x_train, x_test, y_train, y_test = train_test_split( X, Y, test_size=0.20, random_state=42)"
   ]
  },
  {
   "cell_type": "code",
   "execution_count": 14,
   "metadata": {
    "colab": {},
    "colab_type": "code",
    "id": "kFb2XkeCXoJy"
   },
   "outputs": [
    {
     "name": "stdout",
     "output_type": "stream",
     "text": [
      "Test Score: 0.8872635923452621\n"
     ]
    }
   ],
   "source": [
    "clf = tree.DecisionTreeClassifier()\n",
    "clf = clf.fit(x_train,y_train)\n",
    "y_pred = clf.predict(x_test)\n",
    "\n",
    "print(\"Test Score: \"+ str(clf.score(x_test,y_test))) "
   ]
  },
  {
   "cell_type": "code",
   "execution_count": 15,
   "metadata": {
    "colab": {},
    "colab_type": "code",
    "id": "Bzi4okloXoJ1"
   },
   "outputs": [
    {
     "name": "stdout",
     "output_type": "stream",
     "text": [
      "precision score : 0.8304514803466585\n",
      "recall score : 0.973464958342085\n",
      "f1 score : 0.8962892054006839\n",
      "              precision    recall  f1-score   support\n",
      "\n",
      "         0.0       0.97      0.80      0.88    285176\n",
      "         1.0       0.83      0.97      0.90    285660\n",
      "\n",
      "    accuracy                           0.89    570836\n",
      "   macro avg       0.90      0.89      0.89    570836\n",
      "weighted avg       0.90      0.89      0.89    570836\n",
      "\n"
     ]
    }
   ],
   "source": [
    "print(\"precision score : \"+str(precision_score(y_test,y_pred))) \n",
    "print(\"recall score : \"+str(recall_score(y_test,y_pred))) \n",
    "print(\"f1 score : \"+str(f1_score(y_test,y_pred)))\n",
    "print(classification_report(y_test,y_pred))"
   ]
  },
  {
   "cell_type": "markdown",
   "metadata": {
    "colab_type": "text",
    "id": "KqfPZm1-XoJ4"
   },
   "source": [
    "### Under Sampling"
   ]
  },
  {
   "cell_type": "markdown",
   "metadata": {
    "colab_type": "text",
    "id": "KCZAyPfoXoJ5"
   },
   "source": [
    "#### Near Miss"
   ]
  },
  {
   "cell_type": "code",
   "execution_count": 16,
   "metadata": {
    "colab": {},
    "colab_type": "code",
    "id": "HeaK6u8DXoJ6"
   },
   "outputs": [],
   "source": [
    "nm = NearMiss()\n",
    "X = np.array(df.drop(\"ArrDel15\", axis = 1))\n",
    "Y = np.array(df[\"ArrDel15\"])\n",
    "X, Y = nm.fit_resample(X, Y)\n",
    "x_train, x_test, y_train, y_test = train_test_split( X, Y, test_size=0.20, random_state=42)"
   ]
  },
  {
   "cell_type": "code",
   "execution_count": 17,
   "metadata": {
    "colab": {},
    "colab_type": "code",
    "id": "1oLhLE66XoJ9"
   },
   "outputs": [
    {
     "name": "stdout",
     "output_type": "stream",
     "text": [
      "Test Score: 0.637315541810523\n"
     ]
    }
   ],
   "source": [
    "clf = tree.DecisionTreeClassifier()\n",
    "clf = clf.fit(x_train,y_train)\n",
    "y_pred = clf.predict(x_test)\n",
    "\n",
    "print(\"Test Score: \"+ str(clf.score(x_test,y_test))) "
   ]
  },
  {
   "cell_type": "code",
   "execution_count": 18,
   "metadata": {
    "colab": {},
    "colab_type": "code",
    "id": "rRKaCo55XoKA"
   },
   "outputs": [
    {
     "name": "stdout",
     "output_type": "stream",
     "text": [
      "precision score : 0.6400469679996761\n",
      "recall score : 0.6308934653043848\n",
      "f1 score : 0.6354372542057202\n",
      "              precision    recall  f1-score   support\n",
      "\n",
      "         0.0       0.63      0.64      0.64     74866\n",
      "         1.0       0.64      0.63      0.64     75168\n",
      "\n",
      "    accuracy                           0.64    150034\n",
      "   macro avg       0.64      0.64      0.64    150034\n",
      "weighted avg       0.64      0.64      0.64    150034\n",
      "\n"
     ]
    }
   ],
   "source": [
    "print(\"precision score : \"+str(precision_score(y_test,y_pred))) \n",
    "print(\"recall score : \"+str(recall_score(y_test,y_pred))) \n",
    "print(\"f1 score : \"+str(f1_score(y_test,y_pred)))\n",
    "print(classification_report(y_test,y_pred))"
   ]
  },
  {
   "cell_type": "markdown",
   "metadata": {
    "colab_type": "text",
    "id": "U-IAwahZXoKE"
   },
   "source": [
    "#### Random UnderSampling"
   ]
  },
  {
   "cell_type": "code",
   "execution_count": 19,
   "metadata": {
    "colab": {},
    "colab_type": "code",
    "id": "p9YaXZJ3XoKF"
   },
   "outputs": [],
   "source": [
    "rus = RandomUnderSampler()\n",
    "X = np.array(df.drop(\"ArrDel15\", axis = 1))\n",
    "Y = np.array(df[\"ArrDel15\"])\n",
    "X, Y = rus.fit_resample(X, Y)\n",
    "x_train, x_test, y_train, y_test = train_test_split( X, Y, test_size=0.20, random_state=42)"
   ]
  },
  {
   "cell_type": "code",
   "execution_count": 20,
   "metadata": {
    "colab": {},
    "colab_type": "code",
    "id": "rMa9giJ6XoKJ"
   },
   "outputs": [
    {
     "name": "stdout",
     "output_type": "stream",
     "text": [
      "Test Score: 0.5961515389844968\n"
     ]
    }
   ],
   "source": [
    "clf = tree.DecisionTreeClassifier()\n",
    "clf = clf.fit(x_train,y_train)\n",
    "y_pred = clf.predict(x_test)\n",
    "\n",
    "print(\"Test Score: \"+ str(clf.score(x_test,y_test))) "
   ]
  },
  {
   "cell_type": "code",
   "execution_count": 21,
   "metadata": {
    "colab": {},
    "colab_type": "code",
    "id": "YQqQbCPaXoKL"
   },
   "outputs": [
    {
     "name": "stdout",
     "output_type": "stream",
     "text": [
      "precision score : 0.5961125103846611\n",
      "recall score : 0.6013862281822052\n",
      "f1 score : 0.598737756703598\n",
      "              precision    recall  f1-score   support\n",
      "\n",
      "         0.0       0.60      0.59      0.59     74866\n",
      "         1.0       0.60      0.60      0.60     75168\n",
      "\n",
      "    accuracy                           0.60    150034\n",
      "   macro avg       0.60      0.60      0.60    150034\n",
      "weighted avg       0.60      0.60      0.60    150034\n",
      "\n"
     ]
    }
   ],
   "source": [
    "print(\"precision score : \"+str(precision_score(y_test,y_pred))) \n",
    "print(\"recall score : \"+str(recall_score(y_test,y_pred))) \n",
    "print(\"f1 score : \"+str(f1_score(y_test,y_pred)))\n",
    "print(classification_report(y_test,y_pred))"
   ]
  },
  {
   "cell_type": "markdown",
   "metadata": {
    "colab_type": "text",
    "id": "unNhuk_wXoKN"
   },
   "source": [
    "### SMOTE OverSampling"
   ]
  },
  {
   "cell_type": "code",
   "execution_count": 22,
   "metadata": {
    "colab": {},
    "colab_type": "code",
    "id": "mVjl5jI4XoKO"
   },
   "outputs": [],
   "source": [
    "sm = SMOTE()\n",
    "X = np.array(df.drop(\"ArrDel15\", axis = 1))\n",
    "Y = np.array(df[\"ArrDel15\"])\n",
    "X, Y = sm.fit_sample(X, Y)\n",
    "x_train, x_test, y_train, y_test = train_test_split( X, Y, test_size=0.20, random_state=42)"
   ]
  },
  {
   "cell_type": "markdown",
   "metadata": {
    "colab_type": "text",
    "id": "XXVaIGN2XoKQ"
   },
   "source": [
    "### Support Vector Machines ( Applying SMOTE Oversampling )"
   ]
  },
  {
   "cell_type": "code",
   "execution_count": null,
   "metadata": {
    "colab": {},
    "colab_type": "code",
    "id": "FLx_6hUIXoKR"
   },
   "outputs": [],
   "source": [
    "clf = svm.SVC(gamma='scale')\n",
    "clf.fit(x_train, y_train) \n",
    "y_pred = clf.predict(x_test)\n",
    "\n",
    "print(\"Test Score: \"+ str(clf.score(x_test,y_test))) "
   ]
  },
  {
   "cell_type": "code",
   "execution_count": null,
   "metadata": {
    "colab": {},
    "colab_type": "code",
    "id": "g4FhpAEdXoKU"
   },
   "outputs": [],
   "source": [
    "print(\"precision score : \"+str(precision_score(y_test,y_pred))) \n",
    "print(\"recall score : \"+str(recall_score(y_test,y_pred))) \n",
    "print(\"f1 score : \"+str(f1_score(y_test,y_pred)))\n",
    "print(classification_report(y_test,y_pred))"
   ]
  },
  {
   "cell_type": "markdown",
   "metadata": {
    "colab_type": "text",
    "id": "OJ4S7EsNXoKV"
   },
   "source": [
    "### Extra Trees Classifier ( Applying SMOTE Oversampling )"
   ]
  },
  {
   "cell_type": "code",
   "execution_count": 23,
   "metadata": {
    "colab": {},
    "colab_type": "code",
    "id": "PxJ3YbFYXoKW"
   },
   "outputs": [
    {
     "name": "stderr",
     "output_type": "stream",
     "text": [
      "/home/rishi/.local/lib/python3.7/site-packages/sklearn/ensemble/forest.py:245: FutureWarning: The default value of n_estimators will change from 10 in version 0.20 to 100 in 0.22.\n",
      "  \"10 in version 0.20 to 100 in 0.22.\", FutureWarning)\n"
     ]
    },
    {
     "name": "stdout",
     "output_type": "stream",
     "text": [
      "Test Score: 0.856482422271896\n"
     ]
    }
   ],
   "source": [
    "clf = ExtraTreesClassifier()\n",
    "clf.fit(x_train, y_train) \n",
    "y_pred = clf.predict(x_test)\n",
    "\n",
    "print(\"Test Score: \"+ str(clf.score(x_test,y_test))) "
   ]
  },
  {
   "cell_type": "code",
   "execution_count": 24,
   "metadata": {
    "colab": {},
    "colab_type": "code",
    "id": "aqOYY6CbXoKY"
   },
   "outputs": [
    {
     "name": "stdout",
     "output_type": "stream",
     "text": [
      "precision score : 0.8824874497332247\n",
      "recall score : 0.8227683259819366\n",
      "f1 score : 0.8515821873261967\n",
      "              precision    recall  f1-score   support\n",
      "\n",
      "         0.0       0.83      0.89      0.86    285176\n",
      "         1.0       0.88      0.82      0.85    285660\n",
      "\n",
      "    accuracy                           0.86    570836\n",
      "   macro avg       0.86      0.86      0.86    570836\n",
      "weighted avg       0.86      0.86      0.86    570836\n",
      "\n"
     ]
    }
   ],
   "source": [
    "print(\"precision score : \"+str(precision_score(y_test,y_pred))) \n",
    "print(\"recall score : \"+str(recall_score(y_test,y_pred))) \n",
    "print(\"f1 score : \"+str(f1_score(y_test,y_pred)))\n",
    "print(classification_report(y_test,y_pred))"
   ]
  },
  {
   "cell_type": "markdown",
   "metadata": {
    "colab_type": "text",
    "id": "b3BR1WwFXoKa"
   },
   "source": [
    "### Gradient Boosting ( Applying SMOTE OverSampling )"
   ]
  },
  {
   "cell_type": "code",
   "execution_count": 25,
   "metadata": {
    "colab": {},
    "colab_type": "code",
    "id": "cAH3tIfOXoKb"
   },
   "outputs": [
    {
     "name": "stdout",
     "output_type": "stream",
     "text": [
      "Test Score: 0.8067553553034497\n"
     ]
    }
   ],
   "source": [
    "clf = GradientBoostingClassifier()\n",
    "clf.fit(x_train, y_train) \n",
    "y_pred = clf.predict(x_test)\n",
    "\n",
    "print(\"Test Score: \"+ str(clf.score(x_test,y_test))) "
   ]
  },
  {
   "cell_type": "code",
   "execution_count": 26,
   "metadata": {
    "colab": {},
    "colab_type": "code",
    "id": "566B8sDLXoKd"
   },
   "outputs": [
    {
     "name": "stdout",
     "output_type": "stream",
     "text": [
      "precision score : 0.887215521391378\n",
      "recall score : 0.7032346145767696\n",
      "f1 score : 0.7845837491187952\n",
      "              precision    recall  f1-score   support\n",
      "\n",
      "         0.0       0.75      0.91      0.82    285176\n",
      "         1.0       0.89      0.70      0.78    285660\n",
      "\n",
      "    accuracy                           0.81    570836\n",
      "   macro avg       0.82      0.81      0.80    570836\n",
      "weighted avg       0.82      0.81      0.80    570836\n",
      "\n"
     ]
    }
   ],
   "source": [
    "print(\"precision score : \"+str(precision_score(y_test,y_pred))) \n",
    "print(\"recall score : \"+str(recall_score(y_test,y_pred))) \n",
    "print(\"f1 score : \"+str(f1_score(y_test,y_pred)))\n",
    "print(classification_report(y_test,y_pred))"
   ]
  },
  {
   "cell_type": "code",
   "execution_count": null,
   "metadata": {
    "colab": {},
    "colab_type": "code",
    "id": "Rg37KJnMXoKg"
   },
   "outputs": [],
   "source": []
  }
 ],
 "metadata": {
  "accelerator": "GPU",
  "colab": {
   "name": "Logistic.ipynb",
   "provenance": []
  },
  "kernelspec": {
   "display_name": "Python 3",
   "language": "python",
   "name": "python3"
  },
  "language_info": {
   "codemirror_mode": {
    "name": "ipython",
    "version": 3
   },
   "file_extension": ".py",
   "mimetype": "text/x-python",
   "name": "python",
   "nbconvert_exporter": "python",
   "pygments_lexer": "ipython3",
   "version": "3.7.4"
  }
 },
 "nbformat": 4,
 "nbformat_minor": 1
}
