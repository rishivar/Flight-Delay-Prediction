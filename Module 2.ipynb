{
 "cells": [
  {
   "cell_type": "code",
   "execution_count": 15,
   "metadata": {
    "colab": {},
    "colab_type": "code",
    "id": "63sBpZJAXoJG"
   },
   "outputs": [],
   "source": [
    "import pandas as pd\n",
    "import numpy as np\n",
    "import matplotlib\n",
    "import matplotlib.pyplot as plt\n",
    "%matplotlib inline\n",
    "from sklearn.model_selection import train_test_split\n",
    "from sklearn.linear_model import LinearRegression\n",
    "from sklearn.feature_selection import RFE\n",
    "from sklearn.linear_model import RidgeCV, LassoCV, Ridge, Lasso\n",
    "import seaborn as sns\n",
    "from sklearn import tree\n",
    "from sklearn.preprocessing import LabelEncoder\n",
    "from sklearn.model_selection import train_test_split\n",
    "from sklearn.externals.six import StringIO  \n",
    "from IPython.display import Image  \n",
    "from sklearn.tree import export_graphviz\n",
    "from sklearn.metrics import accuracy_score, f1_score, precision_score, recall_score, classification_report, confusion_matrix\n",
    "from imblearn.over_sampling import SMOTE\n",
    "from imblearn.over_sampling import ADASYN \n",
    "from imblearn.over_sampling import RandomOverSampler\n",
    "from imblearn.under_sampling import NearMiss\n",
    "from imblearn.under_sampling import RandomUnderSampler\n",
    "from imblearn.under_sampling import CondensedNearestNeighbour\n",
    "from sklearn import svm\n",
    "from sklearn.ensemble import ExtraTreesClassifier, GradientBoostingClassifier"
   ]
  },
  {
   "cell_type": "code",
   "execution_count": null,
   "metadata": {
    "colab": {},
    "colab_type": "code",
    "id": "_U5rfY7UXoJN"
   },
   "outputs": [],
   "source": [
    "df = pd.read_csv('final.csv')\n",
    "\n",
    "for i in df.keys():\n",
    "    if '_dept' in i:  ## Filtering for Arrival Features\n",
    "        del df[i]\n",
    "\n",
    "df = df.drop(['ArrDelayMinutes','DepDel15','DepDelayMinutes','airport_arr','date_arr','DepTime','ArrTime','time_arr'],1)\n",
    "lb = LabelEncoder()\n",
    "df['Origin'] = lb.fit_transform(df['Origin'])\n",
    "df['Dest'] = lb.fit_transform(df['Dest'])"
   ]
  },
  {
   "cell_type": "markdown",
   "metadata": {
    "colab_type": "text",
    "id": "ZDwvofsZXoJQ"
   },
   "source": [
    "### Decision Tree Classifier"
   ]
  },
  {
   "cell_type": "code",
   "execution_count": 27,
   "metadata": {
    "colab": {},
    "colab_type": "code",
    "id": "0PnJZKNUXoJR"
   },
   "outputs": [],
   "source": [
    "X = np.array(df.drop(\"ArrDel15\", axis = 1))\n",
    "Y = np.array(df[\"ArrDel15\"])\n",
    "x_train, x_test, y_train, y_test = train_test_split( X, Y, test_size=0.20, random_state=42)"
   ]
  },
  {
   "cell_type": "code",
   "execution_count": 28,
   "metadata": {
    "colab": {},
    "colab_type": "code",
    "id": "BKX7QDjvXoJU"
   },
   "outputs": [
    {
     "name": "stdout",
     "output_type": "stream",
     "text": [
      "Test Score: 0.871574625105775\n"
     ]
    }
   ],
   "source": [
    "clf = tree.DecisionTreeClassifier()\n",
    "clf = clf.fit(x_train,y_train)\n",
    "y_pred = clf.predict(x_test)\n",
    "\n",
    "print(\"Test Score: \"+ str(clf.score(x_test,y_test))) "
   ]
  },
  {
   "cell_type": "code",
   "execution_count": 29,
   "metadata": {
    "colab": {},
    "colab_type": "code",
    "id": "0plhk8faXoJW"
   },
   "outputs": [
    {
     "name": "stdout",
     "output_type": "stream",
     "text": [
      "precision score : 0.6855666116725098\n",
      "recall score : 0.7084027010108813\n",
      "f1 score : 0.6967976052454035\n"
     ]
    }
   ],
   "source": [
    "print(\"precision score : \"+str(precision_score(y_test,y_pred))) \n",
    "print(\"recall score : \"+str(recall_score(y_test,y_pred))) \n",
    "print(\"f1 score : \"+str(f1_score(y_test,y_pred)))"
   ]
  },
  {
   "cell_type": "code",
   "execution_count": 30,
   "metadata": {
    "colab": {},
    "colab_type": "code",
    "id": "D7gsuSSxXoJZ"
   },
   "outputs": [
    {
     "name": "stdout",
     "output_type": "stream",
     "text": [
      "              precision    recall  f1-score   support\n",
      "\n",
      "         0.0       0.92      0.91      0.92    285352\n",
      "         1.0       0.69      0.71      0.70     75083\n",
      "\n",
      "    accuracy                           0.87    360435\n",
      "   macro avg       0.80      0.81      0.81    360435\n",
      "weighted avg       0.87      0.87      0.87    360435\n",
      "\n"
     ]
    }
   ],
   "source": [
    "print(classification_report(y_test,y_pred))"
   ]
  },
  {
   "cell_type": "markdown",
   "metadata": {
    "colab_type": "text",
    "id": "lw-OpvwhXoJc"
   },
   "source": [
    "### Over Sampling"
   ]
  },
  {
   "cell_type": "markdown",
   "metadata": {
    "colab_type": "text",
    "id": "3y3R1C_6XoJc"
   },
   "source": [
    "#### SMOTE"
   ]
  },
  {
   "cell_type": "code",
   "execution_count": 31,
   "metadata": {
    "colab": {},
    "colab_type": "code",
    "id": "NVxWjb8rXoJd"
   },
   "outputs": [],
   "source": [
    "sm = SMOTE()\n",
    "X = np.array(df.drop(\"ArrDel15\", axis = 1))\n",
    "Y = np.array(df[\"ArrDel15\"])\n",
    "x_train, x_test, y_train, y_test = train_test_split( X, Y, test_size=0.30, random_state=42)\n",
    "x_tr, y_tr = sm.fit_resample(x_train, y_train)"
   ]
  },
  {
   "cell_type": "code",
   "execution_count": 32,
   "metadata": {
    "colab": {},
    "colab_type": "code",
    "id": "VJ-MJYdCXoJg"
   },
   "outputs": [],
   "source": [
    "clf = tree.DecisionTreeClassifier()\n",
    "clf = clf.fit(x_tr, y_tr)\n",
    "y_pred = clf.predict(x_test)"
   ]
  },
  {
   "cell_type": "code",
   "execution_count": 33,
   "metadata": {
    "colab": {},
    "colab_type": "code",
    "id": "0rm33eh0XoJi"
   },
   "outputs": [
    {
     "name": "stdout",
     "output_type": "stream",
     "text": [
      "Test Score: 0.867545357188437\n",
      "precision score : 0.6743821139590508\n",
      "recall score : 0.7053099386154774\n",
      "f1 score : 0.6894993799699958\n",
      "              precision    recall  f1-score   support\n",
      "\n",
      "         0.0       0.92      0.91      0.92    427921\n",
      "         1.0       0.67      0.71      0.69    112732\n",
      "\n",
      "    accuracy                           0.87    540653\n",
      "   macro avg       0.80      0.81      0.80    540653\n",
      "weighted avg       0.87      0.87      0.87    540653\n",
      "\n"
     ]
    }
   ],
   "source": [
    "print(\"Test Score: \"+ str(clf.score(x_test,y_test))) \n",
    "print(\"precision score : \"+str(precision_score(y_test,y_pred))) \n",
    "print(\"recall score : \"+str(recall_score(y_test,y_pred))) \n",
    "print(\"f1 score : \"+str(f1_score(y_test,y_pred)))\n",
    "print(classification_report(y_test,y_pred))"
   ]
  },
  {
   "cell_type": "markdown",
   "metadata": {
    "colab_type": "text",
    "id": "e3Pi2wrdXoJl"
   },
   "source": [
    "#### ADAYSN"
   ]
  },
  {
   "cell_type": "code",
   "execution_count": 10,
   "metadata": {
    "colab": {},
    "colab_type": "code",
    "id": "mpjYp5aZXoJm"
   },
   "outputs": [],
   "source": [
    "sm = ADASYN()\n",
    "X = np.array(df.drop(\"ArrDel15\", axis = 1))\n",
    "Y = np.array(df[\"ArrDel15\"])\n",
    "x_train, x_test, y_train, y_test = train_test_split( X, Y, test_size=0.20, random_state=42)\n",
    "x_train, y_train = sm.fit_sample(x_train, y_train)"
   ]
  },
  {
   "cell_type": "code",
   "execution_count": 11,
   "metadata": {
    "colab": {},
    "colab_type": "code",
    "id": "26GC7WIfXoJp"
   },
   "outputs": [
    {
     "name": "stdout",
     "output_type": "stream",
     "text": [
      "Test Score: 0.7285779682883183\n"
     ]
    }
   ],
   "source": [
    "clf = tree.DecisionTreeClassifier()\n",
    "clf = clf.fit(x_train,y_train)\n",
    "y_pred = clf.predict(x_test)\n",
    "\n",
    "print(\"Test Score: \"+ str(clf.score(x_test,y_test))) "
   ]
  },
  {
   "cell_type": "code",
   "execution_count": 12,
   "metadata": {
    "colab": {},
    "colab_type": "code",
    "id": "MxKlNrX2XoJs"
   },
   "outputs": [
    {
     "name": "stdout",
     "output_type": "stream",
     "text": [
      "precision score : 0.3631161383600423\n",
      "recall score : 0.39692152409790565\n",
      "f1 score : 0.37926702367960213\n",
      "              precision    recall  f1-score   support\n",
      "\n",
      "         0.0       0.84      0.82      0.83    285138\n",
      "         1.0       0.36      0.40      0.38     75297\n",
      "\n",
      "    accuracy                           0.73    360435\n",
      "   macro avg       0.60      0.61      0.60    360435\n",
      "weighted avg       0.74      0.73      0.73    360435\n",
      "\n"
     ]
    }
   ],
   "source": [
    "print(\"precision score : \"+str(precision_score(y_test,y_pred))) \n",
    "print(\"recall score : \"+str(recall_score(y_test,y_pred))) \n",
    "print(\"f1 score : \"+str(f1_score(y_test,y_pred)))\n",
    "print(classification_report(y_test,y_pred))"
   ]
  },
  {
   "cell_type": "markdown",
   "metadata": {
    "colab_type": "text",
    "id": "MqLrkXvbXoJv"
   },
   "source": [
    "#### Random OverSampling"
   ]
  },
  {
   "cell_type": "code",
   "execution_count": 13,
   "metadata": {
    "colab": {},
    "colab_type": "code",
    "id": "d84-U7IDXoJw"
   },
   "outputs": [],
   "source": [
    "ros = RandomOverSampler(random_state=42)\n",
    "X = np.array(df.drop(\"ArrDel15\", axis = 1))\n",
    "Y = np.array(df[\"ArrDel15\"])\n",
    "x_train, x_test, y_train, y_test = train_test_split( X, Y, test_size=0.20, random_state=42)\n",
    "x_train, y_train = ros.fit_resample(x_train, y_train)"
   ]
  },
  {
   "cell_type": "code",
   "execution_count": 14,
   "metadata": {
    "colab": {},
    "colab_type": "code",
    "id": "kFb2XkeCXoJy"
   },
   "outputs": [
    {
     "name": "stdout",
     "output_type": "stream",
     "text": [
      "Test Score: 0.7312136723681107\n"
     ]
    }
   ],
   "source": [
    "clf = tree.DecisionTreeClassifier()\n",
    "clf = clf.fit(x_train,y_train)\n",
    "y_pred = clf.predict(x_test)\n",
    "\n",
    "print(\"Test Score: \"+ str(clf.score(x_test,y_test))) "
   ]
  },
  {
   "cell_type": "code",
   "execution_count": 15,
   "metadata": {
    "colab": {},
    "colab_type": "code",
    "id": "Bzi4okloXoJ1"
   },
   "outputs": [
    {
     "name": "stdout",
     "output_type": "stream",
     "text": [
      "precision score : 0.3570150914896718\n",
      "recall score : 0.35784958232067676\n",
      "f1 score : 0.3574318498375008\n",
      "              precision    recall  f1-score   support\n",
      "\n",
      "         0.0       0.83      0.83      0.83    285138\n",
      "         1.0       0.36      0.36      0.36     75297\n",
      "\n",
      "    accuracy                           0.73    360435\n",
      "   macro avg       0.59      0.59      0.59    360435\n",
      "weighted avg       0.73      0.73      0.73    360435\n",
      "\n"
     ]
    }
   ],
   "source": [
    "print(\"precision score : \"+str(precision_score(y_test,y_pred))) \n",
    "print(\"recall score : \"+str(recall_score(y_test,y_pred))) \n",
    "print(\"f1 score : \"+str(f1_score(y_test,y_pred)))\n",
    "print(classification_report(y_test,y_pred))"
   ]
  },
  {
   "cell_type": "markdown",
   "metadata": {
    "colab_type": "text",
    "id": "KqfPZm1-XoJ4"
   },
   "source": [
    "### Under Sampling"
   ]
  },
  {
   "cell_type": "markdown",
   "metadata": {
    "colab_type": "text",
    "id": "KCZAyPfoXoJ5"
   },
   "source": [
    "#### Near Miss"
   ]
  },
  {
   "cell_type": "code",
   "execution_count": 16,
   "metadata": {
    "colab": {},
    "colab_type": "code",
    "id": "HeaK6u8DXoJ6"
   },
   "outputs": [],
   "source": [
    "nm = NearMiss()\n",
    "X = np.array(df.drop(\"ArrDel15\", axis = 1))\n",
    "Y = np.array(df[\"ArrDel15\"])\n",
    "x_train, x_test, y_train, y_test = train_test_split( X, Y, test_size=0.20, random_state=42)\n",
    "x_train, y_train = nm.fit_resample(x_train, y_train)"
   ]
  },
  {
   "cell_type": "code",
   "execution_count": 17,
   "metadata": {
    "colab": {},
    "colab_type": "code",
    "id": "1oLhLE66XoJ9"
   },
   "outputs": [
    {
     "name": "stdout",
     "output_type": "stream",
     "text": [
      "Test Score: 0.4714775202186247\n"
     ]
    }
   ],
   "source": [
    "clf = tree.DecisionTreeClassifier()\n",
    "clf = clf.fit(x_train,y_train)\n",
    "y_pred = clf.predict(x_test)\n",
    "\n",
    "print(\"Test Score: \"+ str(clf.score(x_test,y_test))) "
   ]
  },
  {
   "cell_type": "code",
   "execution_count": 18,
   "metadata": {
    "colab": {},
    "colab_type": "code",
    "id": "rRKaCo55XoKA"
   },
   "outputs": [
    {
     "name": "stdout",
     "output_type": "stream",
     "text": [
      "precision score : 0.23406111924208076\n",
      "recall score : 0.6732804759817789\n",
      "f1 score : 0.3473637329130837\n",
      "              precision    recall  f1-score   support\n",
      "\n",
      "         0.0       0.83      0.42      0.56    285138\n",
      "         1.0       0.23      0.67      0.35     75297\n",
      "\n",
      "    accuracy                           0.47    360435\n",
      "   macro avg       0.53      0.55      0.45    360435\n",
      "weighted avg       0.70      0.47      0.51    360435\n",
      "\n"
     ]
    }
   ],
   "source": [
    "print(\"precision score : \"+str(precision_score(y_test,y_pred))) \n",
    "print(\"recall score : \"+str(recall_score(y_test,y_pred))) \n",
    "print(\"f1 score : \"+str(f1_score(y_test,y_pred)))\n",
    "print(classification_report(y_test,y_pred))"
   ]
  },
  {
   "cell_type": "markdown",
   "metadata": {
    "colab_type": "text",
    "id": "U-IAwahZXoKE"
   },
   "source": [
    "#### Random UnderSampling"
   ]
  },
  {
   "cell_type": "code",
   "execution_count": 19,
   "metadata": {
    "colab": {},
    "colab_type": "code",
    "id": "p9YaXZJ3XoKF"
   },
   "outputs": [],
   "source": [
    "rus = RandomUnderSampler()\n",
    "X = np.array(df.drop(\"ArrDel15\", axis = 1))\n",
    "Y = np.array(df[\"ArrDel15\"])\n",
    "x_train, x_test, y_train, y_test = train_test_split( X, Y, test_size=0.20, random_state=42)\n",
    "x_train, y_train = rus.fit_resample(x_train, y_train)"
   ]
  },
  {
   "cell_type": "code",
   "execution_count": 20,
   "metadata": {
    "colab": {},
    "colab_type": "code",
    "id": "rMa9giJ6XoKJ"
   },
   "outputs": [
    {
     "name": "stdout",
     "output_type": "stream",
     "text": [
      "Test Score: 0.5933718978456587\n"
     ]
    }
   ],
   "source": [
    "clf = tree.DecisionTreeClassifier()\n",
    "clf = clf.fit(x_train,y_train)\n",
    "y_pred = clf.predict(x_test)\n",
    "\n",
    "print(\"Test Score: \"+ str(clf.score(x_test,y_test))) "
   ]
  },
  {
   "cell_type": "code",
   "execution_count": 21,
   "metadata": {
    "colab": {},
    "colab_type": "code",
    "id": "YQqQbCPaXoKL"
   },
   "outputs": [
    {
     "name": "stdout",
     "output_type": "stream",
     "text": [
      "precision score : 0.27976315561763726\n",
      "recall score : 0.6011394876289892\n",
      "f1 score : 0.38182807445242545\n",
      "              precision    recall  f1-score   support\n",
      "\n",
      "         0.0       0.85      0.59      0.70    285138\n",
      "         1.0       0.28      0.60      0.38     75297\n",
      "\n",
      "    accuracy                           0.59    360435\n",
      "   macro avg       0.56      0.60      0.54    360435\n",
      "weighted avg       0.73      0.59      0.63    360435\n",
      "\n"
     ]
    }
   ],
   "source": [
    "print(\"precision score : \"+str(precision_score(y_test,y_pred))) \n",
    "print(\"recall score : \"+str(recall_score(y_test,y_pred))) \n",
    "print(\"f1 score : \"+str(f1_score(y_test,y_pred)))\n",
    "print(classification_report(y_test,y_pred))"
   ]
  },
  {
   "cell_type": "markdown",
   "metadata": {},
   "source": [
    "### Extra Trees Classifier ( Without SMOTE Oversampling )"
   ]
  },
  {
   "cell_type": "code",
   "execution_count": null,
   "metadata": {},
   "outputs": [],
   "source": [
    "sm = SMOTE()\n",
    "X = np.array(df.drop(\"ArrDel15\", axis = 1))\n",
    "Y = np.array(df[\"ArrDel15\"])\n",
    "x_train, x_test, y_train, y_test = train_test_split( X, Y, test_size=0.20, random_state=42)"
   ]
  },
  {
   "cell_type": "code",
   "execution_count": null,
   "metadata": {},
   "outputs": [],
   "source": [
    "clf = ExtraTreesClassifier()\n",
    "clf.fit(x_train, y_train) \n",
    "y_pred = clf.predict(x_test)\n",
    "\n",
    "print(\"Test Scoare: \"+ str(clf.score(x_test,y_test))) "
   ]
  },
  {
   "cell_type": "code",
   "execution_count": null,
   "metadata": {},
   "outputs": [],
   "source": [
    "print(\"precision score : \"+str(precision_score(y_test,y_pred))) \n",
    "print(\"recall score : \"+str(recall_score(y_test,y_pred))) \n",
    "print(\"f1 score : \"+str(f1_score(y_test,y_pred)))\n",
    "print(classification_report(y_test,y_pred))"
   ]
  },
  {
   "cell_type": "markdown",
   "metadata": {
    "colab_type": "text",
    "id": "OJ4S7EsNXoKV"
   },
   "source": [
    "### Extra Trees Classifier ( Applying SMOTE Oversampling )"
   ]
  },
  {
   "cell_type": "code",
   "execution_count": null,
   "metadata": {},
   "outputs": [],
   "source": [
    "sm = SMOTE()\n",
    "X = np.array(df.drop(\"ArrDel15\", axis = 1))\n",
    "Y = np.array(df[\"ArrDel15\"])\n",
    "x_train, x_test, y_train, y_test = train_test_split( X, Y, test_size=0.20, random_state=42)\n",
    "X, Y = sm.fit_resample(X, Y)"
   ]
  },
  {
   "cell_type": "code",
   "execution_count": 38,
   "metadata": {
    "colab": {},
    "colab_type": "code",
    "id": "PxJ3YbFYXoKW"
   },
   "outputs": [
    {
     "name": "stderr",
     "output_type": "stream",
     "text": [
      "/home/rishi/.local/lib/python3.7/site-packages/sklearn/ensemble/forest.py:245: FutureWarning: The default value of n_estimators will change from 10 in version 0.20 to 100 in 0.22.\n",
      "  \"10 in version 0.20 to 100 in 0.22.\", FutureWarning)\n"
     ]
    },
    {
     "name": "stdout",
     "output_type": "stream",
     "text": [
      "Test Score: 0.8975376975044044\n"
     ]
    }
   ],
   "source": [
    "clf = ExtraTreesClassifier()\n",
    "clf.fit(x_train, y_train) \n",
    "y_pred = clf.predict(x_test)\n",
    "\n",
    "print(\"Test Scoare: \"+ str(clf.score(x_test,y_test))) "
   ]
  },
  {
   "cell_type": "code",
   "execution_count": 39,
   "metadata": {
    "colab": {},
    "colab_type": "code",
    "id": "aqOYY6CbXoKY"
   },
   "outputs": [
    {
     "name": "stdout",
     "output_type": "stream",
     "text": [
      "precision score : 0.8359278695453105\n",
      "recall score : 0.6322203428206119\n",
      "f1 score : 0.7199417603834108\n",
      "              precision    recall  f1-score   support\n",
      "\n",
      "         0.0       0.91      0.97      0.94    285352\n",
      "         1.0       0.84      0.63      0.72     75083\n",
      "\n",
      "    accuracy                           0.90    360435\n",
      "   macro avg       0.87      0.80      0.83    360435\n",
      "weighted avg       0.89      0.90      0.89    360435\n",
      "\n"
     ]
    }
   ],
   "source": [
    "print(\"precision score : \"+str(precision_score(y_test,y_pred))) \n",
    "print(\"recall score : \"+str(recall_score(y_test,y_pred))) \n",
    "print(\"f1 score : \"+str(f1_score(y_test,y_pred)))\n",
    "print(classification_report(y_test,y_pred))"
   ]
  },
  {
   "cell_type": "markdown",
   "metadata": {
    "colab_type": "text",
    "id": "b3BR1WwFXoKa"
   },
   "source": [
    "### Gradient Boosting ( Applying SMOTE OverSampling )"
   ]
  },
  {
   "cell_type": "code",
   "execution_count": 8,
   "metadata": {
    "colab": {},
    "colab_type": "code",
    "id": "cAH3tIfOXoKb"
   },
   "outputs": [
    {
     "name": "stdout",
     "output_type": "stream",
     "text": [
      "Test Score: 0.7931027785869852\n"
     ]
    }
   ],
   "source": [
    "clf = GradientBoostingClassifier()\n",
    "clf.fit(x_train, y_train) \n",
    "y_pred = clf.predict(x_test)\n",
    "\n",
    "print(\"Test Score: \"+ str(clf.score(x_test,y_test))) "
   ]
  },
  {
   "cell_type": "code",
   "execution_count": 9,
   "metadata": {
    "colab": {},
    "colab_type": "code",
    "id": "566B8sDLXoKd"
   },
   "outputs": [
    {
     "name": "stdout",
     "output_type": "stream",
     "text": [
      "precision score : 0.6362951807228916\n",
      "recall score : 0.022444453298272174\n",
      "f1 score : 0.04335946018754891\n",
      "              precision    recall  f1-score   support\n",
      "\n",
      "         0.0       0.79      1.00      0.88    285138\n",
      "         1.0       0.64      0.02      0.04     75297\n",
      "\n",
      "    accuracy                           0.79    360435\n",
      "   macro avg       0.72      0.51      0.46    360435\n",
      "weighted avg       0.76      0.79      0.71    360435\n",
      "\n"
     ]
    }
   ],
   "source": [
    "print(\"precision score : \"+str(precision_score(y_test,y_pred))) \n",
    "print(\"recall score : \"+str(recall_score(y_test,y_pred))) \n",
    "print(\"f1 score : \"+str(f1_score(y_test,y_pred)))\n",
    "print(classification_report(y_test,y_pred))"
   ]
  },
  {
   "cell_type": "code",
   "execution_count": null,
   "metadata": {
    "colab": {},
    "colab_type": "code",
    "id": "Rg37KJnMXoKg"
   },
   "outputs": [],
   "source": []
  }
 ],
 "metadata": {
  "accelerator": "GPU",
  "colab": {
   "name": "Logistic.ipynb",
   "provenance": []
  },
  "kernelspec": {
   "display_name": "Python 3",
   "language": "python",
   "name": "python3"
  },
  "language_info": {
   "codemirror_mode": {
    "name": "ipython",
    "version": 3
   },
   "file_extension": ".py",
   "mimetype": "text/x-python",
   "name": "python",
   "nbconvert_exporter": "python",
   "pygments_lexer": "ipython3",
   "version": "3.7.4"
  }
 },
 "nbformat": 4,
 "nbformat_minor": 1
}
